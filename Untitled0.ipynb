{
  "nbformat": 4,
  "nbformat_minor": 0,
  "metadata": {
    "colab": {
      "provenance": [],
      "authorship_tag": "ABX9TyMW6hDVMJH++uMiPsG4WyeL",
      "include_colab_link": true
    },
    "kernelspec": {
      "name": "python3",
      "display_name": "Python 3"
    },
    "language_info": {
      "name": "python"
    }
  },
  "cells": [
    {
      "cell_type": "markdown",
      "metadata": {
        "id": "view-in-github",
        "colab_type": "text"
      },
      "source": [
        "<a href=\"https://colab.research.google.com/github/Raisa-123-dot/Function-assignment/blob/main/Untitled0.ipynb\" target=\"_parent\"><img src=\"https://colab.research.google.com/assets/colab-badge.svg\" alt=\"Open In Colab\"/></a>"
      ]
    },
    {
      "cell_type": "markdown",
      "source": [
        "Q1-What are data structures, and why are they important?"
      ],
      "metadata": {
        "id": "UyQjie7c4P4c"
      }
    },
    {
      "cell_type": "markdown",
      "source": [
        "Ans-What are Data Structures?\n",
        "\n",
        "A data structure is a way of organizing, storing, and managing data so it can be used efficiently.\n",
        "Think of it like containers for data: just like you use boxes, shelves, or folders to organize things in real life, programmers use data structures to organize data inside a computer.\n",
        "\n",
        "Some common data structures are:\n",
        "\n",
        "Arrays – store items in a sequence.\n",
        "\n",
        "Linked Lists – connect elements with pointers.\n",
        "\n",
        "Stacks – last-in, first-out (like a stack of plates).\n",
        "\n",
        "Queues – first-in, first-out (like a line at a ticket counter).\n",
        "\n",
        "Trees – hierarchical structure (like a family tree).\n",
        "\n",
        "Graphs – represent networks (like social media connections).\n",
        "\n",
        "Hash Tables – store key-value pairs for fast lookup.\n",
        "\n",
        "Why are They Important?\n",
        "\n",
        "Efficiency – The right data structure makes programs faster and use less memory.\n",
        "\n",
        "Example: Looking up a name in a phone book is faster if it’s sorted.\n",
        "\n",
        "Problem Solving – Different problems need different structures.\n",
        "\n",
        "Example: Navigating maps (graphs), undo operations in text editors (stack).\n",
        "\n",
        "Reusability – Once you learn them, you can apply them in many areas.\n",
        "\n",
        "Scalability – They help software handle large amounts of data smoothly."
      ],
      "metadata": {
        "id": "LlChT2L14Yps"
      }
    },
    {
      "cell_type": "markdown",
      "source": [],
      "metadata": {
        "id": "HuUG-_AP4epU"
      }
    }
  ]
}